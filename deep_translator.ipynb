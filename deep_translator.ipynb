{
  "nbformat": 4,
  "nbformat_minor": 0,
  "metadata": {
    "colab": {
      "name": "deep-translator.ipynb",
      "provenance": [],
      "collapsed_sections": []
    },
    "kernelspec": {
      "name": "python3",
      "display_name": "Python 3"
    },
    "language_info": {
      "name": "python"
    }
  },
  "cells": [
    {
      "cell_type": "code",
      "metadata": {
        "id": "IPb-S5q3jiUj"
      },
      "source": [
        "!pip install -q deep_translator\n",
        "\n",
        "import pandas as pd\n",
        "from deep_translator import GoogleTranslator\n",
        "\n",
        "# Load dataset\n",
        "df = pd.read_csv('GermEval21_Toxic_Train.csv')\n",
        "test_df = pd.read_csv('GermEval21_Toxic_TestData.csv')"
      ],
      "execution_count": null,
      "outputs": []
    },
    {
      "cell_type": "code",
      "metadata": {
        "id": "XbYtgf59kIGO"
      },
      "source": [
        "# Translate training dataset\n",
        "## Re-run if an error occurs!\n",
        "English_Google = []\n",
        "for each in df['comment_text']:\n",
        "  English_Google.append(GoogleTranslator(source='de', target='en').translate(text=each[0:4999]))\n",
        "df[\"English_Google\"] = English_Google\n",
        "df[\"English_Google\"].head(5)\n",
        "df.to_csv('GermEval21_Translated_final.csv', index=False)"
      ],
      "execution_count": null,
      "outputs": []
    },
    {
      "cell_type": "code",
      "metadata": {
        "id": "YT7npsN1kI18"
      },
      "source": [
        "# Translate test dataset\n",
        "## Re-run if an error occurs!\n",
        "English_Google = []\n",
        "for each in test_df['c_text']:\n",
        "  English_Google.append(GoogleTranslator(source='de', target='en').translate(text=each[0:4999]))\n",
        "test_df[\"English_Google\"] = English_Google\n",
        "test_df[\"English_Google\"].head(5)\n",
        "test_df.to_csv('GermEval21_Test_Translated.csv', index=False)"
      ],
      "execution_count": null,
      "outputs": []
    }
  ]
}